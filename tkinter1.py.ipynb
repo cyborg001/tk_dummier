{
 "cells": [
  {
   "cell_type": "code",
   "execution_count": 2,
   "metadata": {},
   "outputs": [],
   "source": [
    "from Tkinter import *\n",
    "import sys"
   ]
  },
  {
   "cell_type": "code",
   "execution_count": 3,
   "metadata": {},
   "outputs": [],
   "source": [
    "PYTHON_VERSION = sys.version_info.major\n"
   ]
  },
  {
   "cell_type": "code",
   "execution_count": 4,
   "metadata": {},
   "outputs": [
    {
     "data": {
      "text/plain": [
       "2"
      ]
     },
     "execution_count": 4,
     "metadata": {},
     "output_type": "execute_result"
    }
   ],
   "source": [
    "PYTHON_VERSION"
   ]
  },
  {
   "cell_type": "code",
   "execution_count": 6,
   "metadata": {},
   "outputs": [],
   "source": [
    "if PYTHON_VERSION < 3:\n",
    "    try:\n",
    "        import Tkinter as tk\n",
    "    except ImportError:\n",
    "        raise ImportError(\"Se requiere el modulo Tkinter\")\n",
    "else:\n",
    "    try:\n",
    "        import tkinter as tk\n",
    "    except ImportError:\n",
    "        raise ImportError(\"se requiere el modulo tkinter\")"
   ]
  },
  {
   "cell_type": "markdown",
   "metadata": {},
   "source": [
    "## asi es que se supone se cree una clase\n",
    "class UI(tk.Frame):\n",
    "    \"\"\"Docstring.\"\"\"\n",
    "    def __ini__(self,parent=None):\n",
    "        tk.Frame.__init__(self,parent)\n",
    "        self.parent=parent\n",
    "        self.init_ui()\n",
    "    \n",
    "    def init_ui(self):\n",
    "        \"\"\"Aqui colocamos nuestros widgets\"\"\"\n",
    "        self.parent.title(\"Dummier\")\n",
    "        etiqueta = tk.Label(self.parent,text='ejemplo')\n",
    "        etiqueta.pack()\n",
    "if __name__ == \"__main__\":\n",
    "    ROOT = tk.Tk()\n",
    "    ROOT.geometry('300x200')\n",
    "    APP=UI(ROOT)\n",
    "    APP.init_ui()\n",
    "    APP.mainloop()\n",
    "    ROOT.destroy()"
   ]
  },
  {
   "cell_type": "code",
   "execution_count": 124,
   "metadata": {},
   "outputs": [
    {
     "name": "stdout",
     "output_type": "stream",
     "text": [
      "se ha elegido la opcion 1\n",
      "se ha elegido la opcion 2\n",
      "se ha elegido la opcion 4\n",
      "se ha elegido la opcion 3\n",
      "se ha elegido la opcion 1\n"
     ]
    }
   ],
   "source": [
    "def funcion():\n",
    "    etiqueta.configure({'text':int_var.get()})\n",
    "    \n",
    "def prueba():\n",
    "    print(\"se ha elegido la opcion %s\" %variable.get())\n",
    "root = tk.Tk()\n",
    "root.title('Dummier')\n",
    "root.geometry('400x200')\n",
    "variable = tk.StringVar()\n",
    "int_var = tk.IntVar()\n",
    "\n",
    "rbcoda = tk.Radiobutton(text=\"Mag Coda       \", variable=variable, value=1, command=prueba)\n",
    "rblocal = tk.Radiobutton(text=\"Mag Local       \", variable=variable, value=2, command=prueba)\n",
    "rbmw = tk.Radiobutton(text=\"Mag MW         \", variable=variable, value=3, command=prueba)\n",
    "rbprom = tk.Radiobutton(text=\"Mag Promedio\", variable=variable, value=4, command=prueba)\n",
    "\n",
    "etiqueta = tk.Label(root,text='')\n",
    "check = tk.Checkbutton(root,text='Enviar correos',variable=int_var)\n",
    "boton = tk.Button(root,text='Enviar Dummy',command=funcion)\n",
    "\n",
    "etiqueta.grid(row=1,column=1)\n",
    "rbcoda.grid(row=2,column=1)\n",
    "rblocal.grid(row=4,column=1)\n",
    "rbmw.grid(row=3,column=1)\n",
    "rbprom.grid(row=5,column=1)\n",
    "check.grid(row=6,column=1)\n",
    "\n",
    "boton.grid(row=7,column=2)\n",
    "\n",
    "\n",
    "boton.invoke()\n",
    "\n",
    "\n",
    "root.mainloop()"
   ]
  },
  {
   "cell_type": "code",
   "execution_count": 79,
   "metadata": {},
   "outputs": [
    {
     "name": "stdout",
     "output_type": "stream",
     "text": [
      "0\n"
     ]
    }
   ],
   "source": [
    "print(int_var)"
   ]
  },
  {
   "cell_type": "code",
   "execution_count": null,
   "metadata": {},
   "outputs": [],
   "source": []
  }
 ],
 "metadata": {
  "kernelspec": {
   "display_name": "Python 2",
   "language": "python",
   "name": "python2"
  },
  "language_info": {
   "codemirror_mode": {
    "name": "ipython",
    "version": 2
   },
   "file_extension": ".py",
   "mimetype": "text/x-python",
   "name": "python",
   "nbconvert_exporter": "python",
   "pygments_lexer": "ipython2",
   "version": "2.7.15rc1"
  }
 },
 "nbformat": 4,
 "nbformat_minor": 2
}
